{
 "cells": [
  {
   "cell_type": "markdown",
   "metadata": {
    "papermill": {
     "duration": 0.017738,
     "end_time": "2020-12-06T08:47:56.915640",
     "exception": false,
     "start_time": "2020-12-06T08:47:56.897902",
     "status": "completed"
    },
    "tags": []
   },
   "source": [
    "## Introduction\n",
    "Greetings from the Kaggle bot! This is an automatically-generated kernel with starter code demonstrating how to read in the data and begin exploring. If you're inspired to dig deeper, click the blue \"Fork Notebook\" button at the top of this kernel to begin editing."
   ]
  },
  {
   "cell_type": "markdown",
   "metadata": {
    "papermill": {
     "duration": 0.014561,
     "end_time": "2020-12-06T08:47:56.945217",
     "exception": false,
     "start_time": "2020-12-06T08:47:56.930656",
     "status": "completed"
    },
    "tags": []
   },
   "source": [
    "## Exploratory Analysis\n",
    "To begin this exploratory analysis, first import libraries and define functions for plotting the data using `matplotlib`. Depending on the data, not all plots will be made. (Hey, I'm just a simple kerneling bot, not a Kaggle Competitions Grandmaster!)"
   ]
  },
  {
   "cell_type": "code",
   "execution_count": 1,
   "metadata": {
    "_kg_hide-input": false,
    "execution": {
     "iopub.execute_input": "2020-12-06T08:47:56.982029Z",
     "iopub.status.busy": "2020-12-06T08:47:56.981187Z",
     "iopub.status.idle": "2020-12-06T08:47:58.112548Z",
     "shell.execute_reply": "2020-12-06T08:47:58.111619Z"
    },
    "papermill": {
     "duration": 1.152704,
     "end_time": "2020-12-06T08:47:58.112684",
     "exception": false,
     "start_time": "2020-12-06T08:47:56.959980",
     "status": "completed"
    },
    "tags": []
   },
   "outputs": [],
   "source": [
    "from mpl_toolkits.mplot3d import Axes3D\n",
    "from sklearn.preprocessing import StandardScaler\n",
    "import matplotlib.pyplot as plt # plotting\n",
    "import numpy as np # linear algebra\n",
    "import os # accessing directory structure\n",
    "import pandas as pd # data processing, CSV file I/O (e.g. pd.read_csv)\n"
   ]
  },
  {
   "cell_type": "markdown",
   "metadata": {
    "papermill": {
     "duration": 0.015394,
     "end_time": "2020-12-06T08:47:58.143787",
     "exception": false,
     "start_time": "2020-12-06T08:47:58.128393",
     "status": "completed"
    },
    "tags": []
   },
   "source": [
    "There is 1 csv file in the current version of the dataset:\n"
   ]
  },
  {
   "cell_type": "code",
   "execution_count": 2,
   "metadata": {
    "_kg_hide-input": false,
    "execution": {
     "iopub.execute_input": "2020-12-06T08:47:58.184102Z",
     "iopub.status.busy": "2020-12-06T08:47:58.183319Z",
     "iopub.status.idle": "2020-12-06T08:47:58.192036Z",
     "shell.execute_reply": "2020-12-06T08:47:58.191294Z"
    },
    "papermill": {
     "duration": 0.032312,
     "end_time": "2020-12-06T08:47:58.192156",
     "exception": false,
     "start_time": "2020-12-06T08:47:58.159844",
     "status": "completed"
    },
    "tags": []
   },
   "outputs": [
    {
     "name": "stdout",
     "output_type": "stream",
     "text": [
      "/kaggle/input/Student Study Hour.csv\n"
     ]
    }
   ],
   "source": [
    "for dirname, _, filenames in os.walk('/kaggle/input'):\n",
    "    for filename in filenames:\n",
    "        print(os.path.join(dirname, filename))\n"
   ]
  },
  {
   "cell_type": "markdown",
   "metadata": {
    "papermill": {
     "duration": 0.015426,
     "end_time": "2020-12-06T08:47:58.223980",
     "exception": false,
     "start_time": "2020-12-06T08:47:58.208554",
     "status": "completed"
    },
    "tags": []
   },
   "source": [
    "The next hidden code cells define functions for plotting data. Click on the \"Code\" button in the published kernel to reveal the hidden code."
   ]
  },
  {
   "cell_type": "code",
   "execution_count": 3,
   "metadata": {
    "_kg_hide-input": true,
    "collapsed": true,
    "execution": {
     "iopub.execute_input": "2020-12-06T08:47:58.272069Z",
     "iopub.status.busy": "2020-12-06T08:47:58.271344Z",
     "iopub.status.idle": "2020-12-06T08:47:58.275367Z",
     "shell.execute_reply": "2020-12-06T08:47:58.274621Z"
    },
    "papermill": {
     "duration": 0.035452,
     "end_time": "2020-12-06T08:47:58.275490",
     "exception": false,
     "start_time": "2020-12-06T08:47:58.240038",
     "status": "completed"
    },
    "tags": []
   },
   "outputs": [],
   "source": [
    "# Distribution graphs (histogram/bar graph) of column data\n",
    "def plotPerColumnDistribution(df, nGraphShown, nGraphPerRow):\n",
    "    nunique = df.nunique()\n",
    "    df = df[[col for col in df if nunique[col] > 1 and nunique[col] < 50]] # For displaying purposes, pick columns that have between 1 and 50 unique values\n",
    "    nRow, nCol = df.shape\n",
    "    columnNames = list(df)\n",
    "    nGraphRow = (nCol + nGraphPerRow - 1) / nGraphPerRow\n",
    "    plt.figure(num = None, figsize = (6 * nGraphPerRow, 8 * nGraphRow), dpi = 80, facecolor = 'w', edgecolor = 'k')\n",
    "    for i in range(min(nCol, nGraphShown)):\n",
    "        plt.subplot(nGraphRow, nGraphPerRow, i + 1)\n",
    "        columnDf = df.iloc[:, i]\n",
    "        if (not np.issubdtype(type(columnDf.iloc[0]), np.number)):\n",
    "            valueCounts = columnDf.value_counts()\n",
    "            valueCounts.plot.bar()\n",
    "        else:\n",
    "            columnDf.hist()\n",
    "        plt.ylabel('counts')\n",
    "        plt.xticks(rotation = 90)\n",
    "        plt.title(f'{columnNames[i]} (column {i})')\n",
    "    plt.tight_layout(pad = 1.0, w_pad = 1.0, h_pad = 1.0)\n",
    "    plt.show()\n"
   ]
  },
  {
   "cell_type": "code",
   "execution_count": 4,
   "metadata": {
    "_kg_hide-input": true,
    "collapsed": true,
    "execution": {
     "iopub.execute_input": "2020-12-06T08:47:58.324959Z",
     "iopub.status.busy": "2020-12-06T08:47:58.320830Z",
     "iopub.status.idle": "2020-12-06T08:47:58.327872Z",
     "shell.execute_reply": "2020-12-06T08:47:58.328484Z"
    },
    "papermill": {
     "duration": 0.036407,
     "end_time": "2020-12-06T08:47:58.328640",
     "exception": false,
     "start_time": "2020-12-06T08:47:58.292233",
     "status": "completed"
    },
    "tags": []
   },
   "outputs": [],
   "source": [
    "# Correlation matrix\n",
    "def plotCorrelationMatrix(df, graphWidth):\n",
    "    filename = df.dataframeName\n",
    "    df = df.dropna('columns') # drop columns with NaN\n",
    "    df = df[[col for col in df if df[col].nunique() > 1]] # keep columns where there are more than 1 unique values\n",
    "    if df.shape[1] < 2:\n",
    "        print(f'No correlation plots shown: The number of non-NaN or constant columns ({df.shape[1]}) is less than 2')\n",
    "        return\n",
    "    corr = df.corr()\n",
    "    plt.figure(num=None, figsize=(graphWidth, graphWidth), dpi=80, facecolor='w', edgecolor='k')\n",
    "    corrMat = plt.matshow(corr, fignum = 1)\n",
    "    plt.xticks(range(len(corr.columns)), corr.columns, rotation=90)\n",
    "    plt.yticks(range(len(corr.columns)), corr.columns)\n",
    "    plt.gca().xaxis.tick_bottom()\n",
    "    plt.colorbar(corrMat)\n",
    "    plt.title(f'Correlation Matrix for {filename}', fontsize=15)\n",
    "    plt.show()\n"
   ]
  },
  {
   "cell_type": "code",
   "execution_count": 5,
   "metadata": {
    "_kg_hide-input": true,
    "collapsed": true,
    "execution": {
     "iopub.execute_input": "2020-12-06T08:47:58.375619Z",
     "iopub.status.busy": "2020-12-06T08:47:58.374500Z",
     "iopub.status.idle": "2020-12-06T08:47:58.377906Z",
     "shell.execute_reply": "2020-12-06T08:47:58.377337Z"
    },
    "papermill": {
     "duration": 0.03309,
     "end_time": "2020-12-06T08:47:58.378034",
     "exception": false,
     "start_time": "2020-12-06T08:47:58.344944",
     "status": "completed"
    },
    "tags": []
   },
   "outputs": [],
   "source": [
    "# Scatter and density plots\n",
    "def plotScatterMatrix(df, plotSize, textSize):\n",
    "    df = df.select_dtypes(include =[np.number]) # keep only numerical columns\n",
    "    # Remove rows and columns that would lead to df being singular\n",
    "    df = df.dropna('columns')\n",
    "    df = df[[col for col in df if df[col].nunique() > 1]] # keep columns where there are more than 1 unique values\n",
    "    columnNames = list(df)\n",
    "    if len(columnNames) > 10: # reduce the number of columns for matrix inversion of kernel density plots\n",
    "        columnNames = columnNames[:10]\n",
    "    df = df[columnNames]\n",
    "    ax = pd.plotting.scatter_matrix(df, alpha=0.75, figsize=[plotSize, plotSize], diagonal='kde')\n",
    "    corrs = df.corr().values\n",
    "    for i, j in zip(*plt.np.triu_indices_from(ax, k = 1)):\n",
    "        ax[i, j].annotate('Corr. coef = %.3f' % corrs[i, j], (0.8, 0.2), xycoords='axes fraction', ha='center', va='center', size=textSize)\n",
    "    plt.suptitle('Scatter and Density Plot')\n",
    "    plt.show()\n"
   ]
  },
  {
   "cell_type": "markdown",
   "metadata": {
    "papermill": {
     "duration": 0.018082,
     "end_time": "2020-12-06T08:47:58.415424",
     "exception": false,
     "start_time": "2020-12-06T08:47:58.397342",
     "status": "completed"
    },
    "tags": []
   },
   "source": [
    "Now you're ready to read in the data and use the plotting functions to visualize the data."
   ]
  },
  {
   "cell_type": "markdown",
   "metadata": {
    "papermill": {
     "duration": 0.016263,
     "end_time": "2020-12-06T08:47:58.449723",
     "exception": false,
     "start_time": "2020-12-06T08:47:58.433460",
     "status": "completed"
    },
    "tags": []
   },
   "source": [
    "### Let's check 1st file: /kaggle/input/Student Study Hour.csv"
   ]
  },
  {
   "cell_type": "code",
   "execution_count": 6,
   "metadata": {
    "_kg_hide-input": false,
    "execution": {
     "iopub.execute_input": "2020-12-06T08:47:58.500563Z",
     "iopub.status.busy": "2020-12-06T08:47:58.499405Z",
     "iopub.status.idle": "2020-12-06T08:47:58.519060Z",
     "shell.execute_reply": "2020-12-06T08:47:58.518303Z"
    },
    "papermill": {
     "duration": 0.048785,
     "end_time": "2020-12-06T08:47:58.519216",
     "exception": false,
     "start_time": "2020-12-06T08:47:58.470431",
     "status": "completed"
    },
    "tags": []
   },
   "outputs": [
    {
     "name": "stdout",
     "output_type": "stream",
     "text": [
      "There are 25 rows and 2 columns\n"
     ]
    }
   ],
   "source": [
    "nRowsRead = 1000 # specify 'None' if want to read whole file\n",
    "# Student Study Hour.csv may have more rows in reality, but we are only loading/previewing the first 1000 rows\n",
    "df1 = pd.read_csv('/kaggle/input/Student Study Hour.csv', delimiter=',', nrows = nRowsRead)\n",
    "df1.dataframeName = 'Student Study Hour.csv'\n",
    "nRow, nCol = df1.shape\n",
    "print(f'There are {nRow} rows and {nCol} columns')"
   ]
  },
  {
   "cell_type": "markdown",
   "metadata": {
    "papermill": {
     "duration": 0.016631,
     "end_time": "2020-12-06T08:47:58.555676",
     "exception": false,
     "start_time": "2020-12-06T08:47:58.539045",
     "status": "completed"
    },
    "tags": []
   },
   "source": [
    "Let's take a quick look at what the data looks like:"
   ]
  },
  {
   "cell_type": "code",
   "execution_count": 7,
   "metadata": {
    "_kg_hide-input": false,
    "execution": {
     "iopub.execute_input": "2020-12-06T08:47:58.604622Z",
     "iopub.status.busy": "2020-12-06T08:47:58.603487Z",
     "iopub.status.idle": "2020-12-06T08:47:58.613610Z",
     "shell.execute_reply": "2020-12-06T08:47:58.612880Z"
    },
    "papermill": {
     "duration": 0.041185,
     "end_time": "2020-12-06T08:47:58.613732",
     "exception": false,
     "start_time": "2020-12-06T08:47:58.572547",
     "status": "completed"
    },
    "tags": []
   },
   "outputs": [
    {
     "data": {
      "text/html": [
       "<div>\n",
       "<style scoped>\n",
       "    .dataframe tbody tr th:only-of-type {\n",
       "        vertical-align: middle;\n",
       "    }\n",
       "\n",
       "    .dataframe tbody tr th {\n",
       "        vertical-align: top;\n",
       "    }\n",
       "\n",
       "    .dataframe thead th {\n",
       "        text-align: right;\n",
       "    }\n",
       "</style>\n",
       "<table border=\"1\" class=\"dataframe\">\n",
       "  <thead>\n",
       "    <tr style=\"text-align: right;\">\n",
       "      <th></th>\n",
       "      <th>Hours</th>\n",
       "      <th>Scores</th>\n",
       "    </tr>\n",
       "  </thead>\n",
       "  <tbody>\n",
       "    <tr>\n",
       "      <th>0</th>\n",
       "      <td>2.5</td>\n",
       "      <td>21</td>\n",
       "    </tr>\n",
       "    <tr>\n",
       "      <th>1</th>\n",
       "      <td>5.1</td>\n",
       "      <td>47</td>\n",
       "    </tr>\n",
       "    <tr>\n",
       "      <th>2</th>\n",
       "      <td>3.2</td>\n",
       "      <td>27</td>\n",
       "    </tr>\n",
       "    <tr>\n",
       "      <th>3</th>\n",
       "      <td>8.5</td>\n",
       "      <td>75</td>\n",
       "    </tr>\n",
       "    <tr>\n",
       "      <th>4</th>\n",
       "      <td>3.5</td>\n",
       "      <td>30</td>\n",
       "    </tr>\n",
       "  </tbody>\n",
       "</table>\n",
       "</div>"
      ],
      "text/plain": [
       "   Hours  Scores\n",
       "0    2.5      21\n",
       "1    5.1      47\n",
       "2    3.2      27\n",
       "3    8.5      75\n",
       "4    3.5      30"
      ]
     },
     "execution_count": 7,
     "metadata": {},
     "output_type": "execute_result"
    }
   ],
   "source": [
    "df1.head(5)"
   ]
  },
  {
   "cell_type": "markdown",
   "metadata": {
    "papermill": {
     "duration": 0.01732,
     "end_time": "2020-12-06T08:47:58.648878",
     "exception": false,
     "start_time": "2020-12-06T08:47:58.631558",
     "status": "completed"
    },
    "tags": []
   },
   "source": [
    "Distribution graphs (histogram/bar graph) of sampled columns:"
   ]
  },
  {
   "cell_type": "code",
   "execution_count": 8,
   "metadata": {
    "_kg_hide-input": false,
    "execution": {
     "iopub.execute_input": "2020-12-06T08:47:58.690518Z",
     "iopub.status.busy": "2020-12-06T08:47:58.689678Z",
     "iopub.status.idle": "2020-12-06T08:47:59.279736Z",
     "shell.execute_reply": "2020-12-06T08:47:59.280288Z"
    },
    "papermill": {
     "duration": 0.61365,
     "end_time": "2020-12-06T08:47:59.280515",
     "exception": false,
     "start_time": "2020-12-06T08:47:58.666865",
     "status": "completed"
    },
    "tags": []
   },
   "outputs": [
    {
     "data": {
      "image/png": "[encoded data removed]",
      "text/plain": [
       "<Figure size 2400x768 with 2 Axes>"
      ]
     },
     "metadata": {},
     "output_type": "display_data"
    }
   ],
   "source": [
    "plotPerColumnDistribution(df1, 10, 5)"
   ]
  },
  {
   "cell_type": "markdown",
   "metadata": {
    "papermill": {
     "duration": 0.018805,
     "end_time": "2020-12-06T08:47:59.318441",
     "exception": false,
     "start_time": "2020-12-06T08:47:59.299636",
     "status": "completed"
    },
    "tags": []
   },
   "source": [
    "Correlation matrix:"
   ]
  },
  {
   "cell_type": "code",
   "execution_count": 9,
   "metadata": {
    "_kg_hide-input": false,
    "execution": {
     "iopub.execute_input": "2020-12-06T08:47:59.363964Z",
     "iopub.status.busy": "2020-12-06T08:47:59.363199Z",
     "iopub.status.idle": "2020-12-06T08:47:59.594587Z",
     "shell.execute_reply": "2020-12-06T08:47:59.593763Z"
    },
    "papermill": {
     "duration": 0.256577,
     "end_time": "2020-12-06T08:47:59.594721",
     "exception": false,
     "start_time": "2020-12-06T08:47:59.338144",
     "status": "completed"
    },
    "tags": []
   },
   "outputs": [
    {
     "data": {
      "image/png": "[encoded data removed]",
      "text/plain": [
       "<Figure size 640x640 with 2 Axes>"
      ]
     },
     "metadata": {},
     "output_type": "display_data"
    }
   ],
   "source": [
    "plotCorrelationMatrix(df1, 8)"
   ]
  },
  {
   "cell_type": "markdown",
   "metadata": {
    "papermill": {
     "duration": 0.019548,
     "end_time": "2020-12-06T08:47:59.634684",
     "exception": false,
     "start_time": "2020-12-06T08:47:59.615136",
     "status": "completed"
    },
    "tags": []
   },
   "source": [
    "Scatter and density plots:"
   ]
  },
  {
   "cell_type": "code",
   "execution_count": 10,
   "metadata": {
    "_kg_hide-input": false,
    "execution": {
     "iopub.execute_input": "2020-12-06T08:47:59.696426Z",
     "iopub.status.busy": "2020-12-06T08:47:59.695473Z",
     "iopub.status.idle": "2020-12-06T08:48:00.090559Z",
     "shell.execute_reply": "2020-12-06T08:48:00.089921Z"
    },
    "papermill": {
     "duration": 0.434635,
     "end_time": "2020-12-06T08:48:00.090694",
     "exception": false,
     "start_time": "2020-12-06T08:47:59.656059",
     "status": "completed"
    },
    "tags": []
   },
   "outputs": [
    {
     "data": {
      "image/png": "[encoded data removed]",
      "text/plain": [
       "<Figure size 432x432 with 4 Axes>"
      ]
     },
     "metadata": {
      "needs_background": "light"
     },
     "output_type": "display_data"
    }
   ],
   "source": [
    "plotScatterMatrix(df1, 6, 15)"
   ]
  },
  {
   "cell_type": "markdown",
   "metadata": {
    "papermill": {
     "duration": 0.021152,
     "end_time": "2020-12-06T08:48:00.133512",
     "exception": false,
     "start_time": "2020-12-06T08:48:00.112360",
     "status": "completed"
    },
    "tags": []
   },
   "source": [
    "## Conclusion\n",
    "This concludes your starter analysis! To go forward from here, click the blue \"Fork Notebook\" button at the top of this kernel. This will create a copy of the code and environment for you to edit. Delete, modify, and add code as you please. Happy Kaggling!"
   ]
  }
 ],
 "metadata": {
  "kernelspec": {
   "display_name": "Python 3",
   "language": "python",
   "name": "python3"
  },
  "language_info": {
   "codemirror_mode": {
    "name": "ipython",
    "version": 3
   },
   "file_extension": ".py",
   "mimetype": "text/x-python",
   "name": "python",
   "nbconvert_exporter": "python",
   "pygments_lexer": "ipython3",
   "version": "3.8.3"
  },
  "papermill": {
   "duration": 9.766315,
   "end_time": "2020-12-06T08:48:00.263066",
   "environment_variables": {},
   "exception": null,
   "input_path": "__notebook__.ipynb",
   "output_path": "__notebook__.ipynb",
   "parameters": {},
   "start_time": "2020-12-06T08:47:50.496751",
   "version": "2.1.0"
  }
 },
 "nbformat": 4,
 "nbformat_minor": 4
}
